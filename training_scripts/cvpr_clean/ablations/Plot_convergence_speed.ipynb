{
 "cells": [
  {
   "cell_type": "code",
   "execution_count": 32,
   "metadata": {},
   "outputs": [
    {
     "name": "stdout",
     "output_type": "stream",
     "text": [
      "The autoreload extension is already loaded. To reload it, use:\n",
      "  %reload_ext autoreload\n"
     ]
    }
   ],
   "source": [
    "%load_ext autoreload\n",
    "%autoreload 2\n",
    "\n",
    "import icon_registration\n",
    "import icon_registration.data as data\n",
    "import icon_registration.networks as networks\n",
    "import icon_registration.network_wrappers as network_wrappers\n",
    "import icon_registration.visualize as visualize\n",
    "import icon_registration.train as train\n",
    "import icon_registration.config as config\n",
    "import icon_registration.inverseConsistentNet as inverseConsistentNet\n",
    "from icon_registration.mermaidlite import compute_warped_image_multiNC"
   ]
  },
  {
   "cell_type": "code",
   "execution_count": 2,
   "metadata": {},
   "outputs": [],
   "source": [
    "import numpy as np\n",
    "import torch\n",
    "import matplotlib.pyplot as plt\n",
    "import random\n",
    "import os\n",
    "import pickle\n",
    "from IPython.display import Image, display\n",
    "import torch.nn.functional as F"
   ]
  },
  {
   "cell_type": "code",
   "execution_count": 35,
   "metadata": {},
   "outputs": [
    {
     "name": "stdout",
     "output_type": "stream",
     "text": [
      "def get_dataset_retina(\n",
      "    extra_deformation=False,\n",
      "    downsample_factor=4,\n",
      "    blur_sigma=None,\n",
      "    warps_per_pair=20,\n",
      "    fixed_vertical_offset=None,\n",
      "    include_boundary=False,\n",
      "):\n",
      "    try:\n",
      "        import elasticdeform\n",
      "        import hub\n",
      "    except:\n",
      "\n",
      "        raise Exception(\n",
      "            \"\"\"the retina dataset requires the dependencies hub and elasticdeform.\n",
      "            Try pip install hub elasticdeform\"\"\"\n",
      "        )\n",
      "\n",
      "    ds_name = f\"retina{extra_deformation}{downsample_factor}{blur_sigma}{warps_per_pair}{fixed_vertical_offset}{include_boundary}.trch\"\n",
      "\n",
      "    import os\n",
      "\n",
      "    if os.path.exists(ds_name):\n",
      "        augmented_ds1_tensor, augmented_ds2_tensor = torch.load(ds_name)\n",
      "    else:\n",
      "\n",
      "        res = []\n",
      "        for batch in hub.load(\"hub://activeloop/drive-train\").pytorch(\n",
      "            num_workers=0, batch_size=4, shuffle=False\n",
      "        ):\n",
      "            if include_boundary:\n",
      "                res.append(batch[\"manual_masks/mask\"] ^ batch[\"masks/mask\"])\n",
      "            else:\n",
      "                res.append(batch[\"manual_masks/mask\"])\n",
      "        res = torch.cat(res)\n",
      "        ds_tensor = res[:, None, :, :, 0] * -1.0 + (not include_boundary)\n",
      "\n",
      "        if fixed_vertical_offset is not None:\n",
      "            ds2_tensor = torch.cat(\n",
      "                [torch.zeros(20, 1, fixed_vertical_offset, 565), ds_tensor], axis=2\n",
      "            )\n",
      "            ds1_tensor = torch.cat(\n",
      "                [ds_tensor, torch.zeros(20, 1, fixed_vertical_offset, 565)], axis=2\n",
      "            )\n",
      "        else:\n",
      "            ds2_tensor = ds_tensor\n",
      "            ds1_tensor = ds_tensor\n",
      "        print(ds_tensor.shape)\n",
      "\n",
      "        warped_tensors = []\n",
      "        print(\"warping images to generate dataset\")\n",
      "        for _ in tqdm.tqdm(range(warps_per_pair)):\n",
      "            ds_2_list = []\n",
      "            for el in ds2_tensor:\n",
      "                case = el[0]\n",
      "                # TODO implement random warping on gpu\n",
      "                case_warped = np.array(case)\n",
      "                if extra_deformation:\n",
      "                    case_warped = elasticdeform.deform_random_grid(\n",
      "                        case_warped, sigma=60, points=3\n",
      "                    )\n",
      "                case_warped = elasticdeform.deform_random_grid(\n",
      "                    case_warped, sigma=25, points=3\n",
      "                )\n",
      "\n",
      "                case_warped = elasticdeform.deform_random_grid(\n",
      "                    case_warped, sigma=12, points=6\n",
      "                )\n",
      "                ds_2_list.append(torch.tensor(case_warped)[None, None, :, :])\n",
      "                ds_2_tensor = torch.cat(ds_2_list)\n",
      "            warped_tensors.append(ds_2_tensor)\n",
      "\n",
      "        augmented_ds2_tensor = torch.cat(warped_tensors)\n",
      "        augmented_ds1_tensor = torch.cat([ds1_tensor for _ in range(warps_per_pair)])\n",
      "\n",
      "        torch.save((augmented_ds1_tensor, augmented_ds2_tensor), ds_name)\n",
      "\n",
      "    batch_size = 10\n",
      "    import torchvision.transforms.functional as Fv\n",
      "\n",
      "    if blur_sigma is None:\n",
      "        ds1 = torch.utils.data.TensorDataset(\n",
      "            F.avg_pool2d(augmented_ds1_tensor, downsample_factor)\n",
      "        )\n",
      "    else:\n",
      "        ds1 = torch.utils.data.TensorDataset(\n",
      "            Fv.gaussian_blur(\n",
      "                F.avg_pool2d(augmented_ds1_tensor, downsample_factor),\n",
      "                4 * blur_sigma + 1,\n",
      "                blur_sigma,\n",
      "            )\n",
      "        )\n",
      "    d1 = torch.utils.data.DataLoader(\n",
      "        ds1,\n",
      "        batch_size=batch_size,\n",
      "        shuffle=False,\n",
      "    )\n",
      "    if blur_sigma is None:\n",
      "        ds2 = torch.utils.data.TensorDataset(\n",
      "            F.avg_pool2d(augmented_ds2_tensor, downsample_factor)\n",
      "        )\n",
      "    else:\n",
      "        ds2 = torch.utils.data.TensorDataset(\n",
      "            Fv.gaussian_blur(\n",
      "                F.avg_pool2d(augmented_ds2_tensor, downsample_factor),\n",
      "                4 * blur_sigma + 1,\n",
      "                blur_sigma,\n",
      "            )\n",
      "        )\n",
      "\n",
      "    d2 = torch.utils.data.DataLoader(\n",
      "        ds2,\n",
      "        batch_size=batch_size,\n",
      "        shuffle=False,\n",
      "    )\n",
      "\n",
      "    return d1, d2\n",
      "\n"
     ]
    }
   ],
   "source": [
    "import inspect\n",
    "lines = inspect.getsource(data.get_dataset_retina)\n",
    "print(lines)"
   ]
  },
  {
   "cell_type": "code",
   "execution_count": 37,
   "metadata": {},
   "outputs": [
    {
     "name": "stdout",
     "output_type": "stream",
     "text": [
      "Opening dataset in read-only mode as you don't have write permissions.\n",
      "hub://activeloop/drive-train loaded successfully.\n",
      "This dataset can be visualized at https://app.activeloop.ai/activeloop/drive-train.\n",
      "warping images to generate dataset\n"
     ]
    },
    {
     "name": "stderr",
     "output_type": "stream",
     "text": [
      "100%|██████████| 20/20 [01:32<00:00,  4.62s/it]\n"
     ]
    }
   ],
   "source": [
    "d1, d2 = data.get_dataset_retina(extra_deformation=False, downsample_factor=5, warps_per_pair=20)"
   ]
  },
  {
   "cell_type": "code",
   "execution_count": 4,
   "metadata": {},
   "outputs": [],
   "source": [
    "# Load loss for retina\n",
    "output_folder = 'figures/comparing_to_other_regularity/retina'\n",
    "with open(f'{output_folder}/retina_exp_loss_curve.pickle', 'rb') as f:\n",
    "    retina_loss = pickle.load(f)"
   ]
  },
  {
   "cell_type": "code",
   "execution_count": 6,
   "metadata": {},
   "outputs": [],
   "source": [
    "# Load loss for circle\n",
    "output_folder = 'figures/comparing_to_other_regularity/circle_128'\n",
    "with open(f'{output_folder}/exp_loss_curve.pickle', 'rb') as f:\n",
    "    circle_loss = pickle.load(f)"
   ]
  },
  {
   "cell_type": "code",
   "execution_count": 7,
   "metadata": {},
   "outputs": [],
   "source": [
    "def get_loss_curve(result):\n",
    "    return np.array(result)[:,:,:,-3], np.array(result)[:,:,:,-2], np.array(result)[:,:,:,-1]"
   ]
  },
  {
   "cell_type": "code",
   "execution_count": 26,
   "metadata": {},
   "outputs": [],
   "source": [
    "models = [\n",
    "    [retina_loss, \"ICON\", 10, 292*282, '-', 0, \"DRIVE\"],\n",
    "    [retina_loss, \"GradICON\", 5, 292*282, '-', 1, \"DRIVE\"],\n",
    "    [circle_loss, \"ICON\", 8, 128*128, '--', 0, \"T&C\"],\n",
    "    [circle_loss, \"GradICON\", 3, 128*128, '--', 1, \"T&C\"]\n",
    "]"
   ]
  },
  {
   "cell_type": "code",
   "execution_count": 28,
   "metadata": {},
   "outputs": [
    {
     "data": {
      "image/png": "[encoded data removed]",
      "text/plain": [
       "<Figure size 504x180 with 2 Axes>"
      ]
     },
     "metadata": {},
     "output_type": "display_data"
    }
   ],
   "source": [
    "import seaborn as sns\n",
    "\n",
    "output_folder = 'figures/comparing_to_other_regularity'\n",
    "fig, axes = plt.subplots(1, 2, figsize=(7,2.5))\n",
    "sns.set(style=\"whitegrid\")\n",
    "clrs = sns.color_palette(\"husl\", 2)\n",
    "\n",
    "for i, (loss_data, name, ite, vol, linestyle, color_id, dataset_name) in enumerate(models):\n",
    "    sim_loss, mag_loss, fold_loss = get_loss_curve(loss_data[name])\n",
    "    fold_smooth = fold_loss[ite, 0]/vol*100.0\n",
    "    fold_smooth = [np.mean(fold_smooth[max(j-40,0):j+1]) for j in range(fold_smooth.shape[0])]\n",
    "    sim_smooth = sim_loss[ite, 0]/2.0\n",
    "    sim_smooth = [np.mean(sim_smooth[max(j-40,0):j+1]) for j in range(sim_smooth.shape[0])]\n",
    "    axes[0].plot(sim_smooth, label=name+f\" ({dataset_name})\", lw=1.5, c=clrs[color_id], linestyle=linestyle)#, alpha=0.8**i)\n",
    "    axes[0].set_ylabel('Running 1-LNCC')\n",
    "    axes[1].plot(fold_smooth, label=name+f\" ({dataset_name})\", lw=1.5, c=clrs[color_id], linestyle=linestyle)#, alpha=0.8**i)\n",
    "    axes[1].set_ylabel('Running %|J|')\n",
    "    axes[1].set_yscale('log')\n",
    "    \n",
    "    axes[1].legend()\n",
    "\n",
    "# x_left, x_right = axes[1].get_xlim()\n",
    "# y_low, y_high = axes[1].get_ylim()\n",
    "# axes[1].set_aspect(abs((x_right-x_left)/(y_low-y_high)))\n",
    "# x_left, x_right = axes[0].get_xlim()\n",
    "# y_low, y_high = axes[0].get_ylim()\n",
    "# axes[0].set_aspect(abs((x_right-x_left)/(y_low-y_high)))\n",
    "\n",
    "plt.tight_layout()\n",
    "plt.savefig(f'{output_folder}/convergence_speed_combined.pdf', format='pdf', bbox_inches='tight', dpi=300)"
   ]
  }
 ],
 "metadata": {
  "kernelspec": {
   "display_name": "Python 3.7.11 ('icon')",
   "language": "python",
   "name": "python3"
  },
  "language_info": {
   "codemirror_mode": {
    "name": "ipython",
    "version": 3
   },
   "file_extension": ".py",
   "mimetype": "text/x-python",
   "name": "python",
   "nbconvert_exporter": "python",
   "pygments_lexer": "ipython3",
   "version": "3.7.11"
  },
  "orig_nbformat": 4,
  "vscode": {
   "interpreter": {
    "hash": "f4b7dfd2b1946ef4e9efd933fcfa25c499e2728f16ec59a8577b210912c2565c"
   }
  }
 },
 "nbformat": 4,
 "nbformat_minor": 2
}
