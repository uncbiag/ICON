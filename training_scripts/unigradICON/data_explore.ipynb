{
 "cells": [
  {
   "cell_type": "code",
   "execution_count": 1,
   "metadata": {},
   "outputs": [
    {
     "name": "stderr",
     "output_type": "stream",
     "text": [
      "IProgress not found. Please update jupyter and ipywidgets. See https://ipywidgets.readthedocs.io/en/stable/user_install.html\n"
     ]
    }
   ],
   "source": [
    "import numpy as np\n",
    "import itk\n",
    "import tqdm\n",
    "import torch\n",
    "\n",
    "from monai.transforms import CropForeground"
   ]
  },
  {
   "cell_type": "code",
   "execution_count": 2,
   "metadata": {},
   "outputs": [],
   "source": [
    "# Brain\n",
    "for split in [\"train\"]:\n",
    "    with open(f\"/playpen-raid2/lin.tian/projects/icon_lung/ICON/training_scripts/brain_t1_pipeline/splits/{split}.txt\") as f:\n",
    "        image_paths = f.readlines()\n",
    "\n",
    "# cropper = CropForeground(lambda x: x>1)\n",
    "# img_shapes = []\n",
    "# for name in tqdm.tqdm(list(iter(image_paths))[:]):\n",
    "#     name = name.split(\".nii.gz\")[0] + \"_restore_brain.nii.gz\"\n",
    "\n",
    "#     image = torch.tensor(np.asarray(itk.imread(name)))[None]\n",
    "#     croped_image = cropper(image)\n",
    "#     img_shapes.append(list(croped_image.shape))\n"
   ]
  },
  {
   "cell_type": "code",
   "execution_count": 4,
   "metadata": {},
   "outputs": [
    {
     "data": {
      "text/plain": [
       "['',\n",
       " 'playpen-raid2',\n",
       " 'Data',\n",
       " 'HCP',\n",
       " 'HCP_1200',\n",
       " '209329',\n",
       " 'T1w',\n",
       " 'T1w_acpc_dc_restore_brain.nii.gz']"
      ]
     },
     "execution_count": 4,
     "metadata": {},
     "output_type": "execute_result"
    }
   ],
   "source": [
    "name.split('/')"
   ]
  },
  {
   "cell_type": "code",
   "execution_count": 7,
   "metadata": {},
   "outputs": [
    {
     "name": "stderr",
     "output_type": "stream",
     "text": [
      "100%|██████████| 1073/1073 [03:42<00:00,  4.82it/s]\n"
     ]
    }
   ],
   "source": [
    "import subprocess\n",
    "import os\n",
    "dest = \"/playpen-ssd/lin.tian/data_local/HCP\"\n",
    "for name in tqdm.tqdm(list(iter(image_paths))[:]):\n",
    "    name = name.split(\".nii.gz\")[0] + \"_restore_brain.nii.gz\"\n",
    "    parent = '/'.join(name.split('/')[4:-1])\n",
    "    # print(parent)\n",
    "    # subprocess.run(f'mkdir -p {dest}/{parent}')\n",
    "    os.makedirs(f\"{dest}/{parent}\", exist_ok=True)\n",
    "    subprocess.run(f\"cp -r {name} {dest}/{parent}\", shell=True)"
   ]
  },
  {
   "cell_type": "code",
   "execution_count": 10,
   "metadata": {},
   "outputs": [],
   "source": [
    "img_shapes = np.array(img_shapes)"
   ]
  },
  {
   "cell_type": "code",
   "execution_count": 12,
   "metadata": {},
   "outputs": [
    {
     "name": "stdout",
     "output_type": "stream",
     "text": [
      "[  1 219 286 219]\n",
      "[  1 170 219 171]\n"
     ]
    }
   ],
   "source": [
    "print(np.max(img_shapes,0))\n",
    "print(np.min(img_shapes,0))"
   ]
  },
  {
   "cell_type": "code",
   "execution_count": 8,
   "metadata": {},
   "outputs": [],
   "source": [
    "# Knee\n",
    "with open(\"/playpen-raid2/lin.tian/projects/icon_lung/ICON/training_scripts/oai_paper_pipeline/splits/train/pair_path_list.txt\") as f:\n",
    "    train_pair_paths = f.readlines()\n",
    "\n",
    "knee_image_paths_set = set()\n",
    "knee_image_paths = []\n",
    "for p in train_pair_paths:\n",
    "    p_s = p.split()\n",
    "    if p_s[0] not in knee_image_paths_set:\n",
    "        knee_image_paths.append([p_s[0], p_s[2]])\n",
    "        knee_image_paths_set.add(p_s[0])\n",
    "    if p_s[1] not in knee_image_paths_set:\n",
    "        knee_image_paths.append([p_s[1], p_s[3]])\n",
    "        knee_image_paths_set.add(p_s[1])\n",
    "\n",
    "# cropper = CropForeground(lambda x: x>0)\n",
    "# knee_img_shapes = []\n",
    "# for name in tqdm.tqdm(list(iter(knee_image_paths))[:]):\n",
    "#     img_path, seg_path = name[0].replace(\"playpen\", \"playpen-raid\"), name[1].replace(\"playpen\", \"playpen-raid\")\n",
    "#     seg = torch.tensor(np.asarray(itk.imread(seg_path)))[None]\n",
    "#     if \"RIGHT\" in img_path:\n",
    "#         seg = torch.flip(seg, [1])\n",
    "#     elif \"LEFT\" in img_path:\n",
    "#         pass\n",
    "#     else:\n",
    "#         raise AssertionError()\n",
    "#     croped_image = cropper(seg)\n",
    "#     knee_img_shapes.append(list(croped_image.shape))"
   ]
  },
  {
   "cell_type": "code",
   "execution_count": 10,
   "metadata": {},
   "outputs": [
    {
     "name": "stderr",
     "output_type": "stream",
     "text": [
      "100%|██████████| 2532/2532 [22:22<00:00,  1.89it/s]\n"
     ]
    }
   ],
   "source": [
    "dest = \"/playpen-ssd/lin.tian/data_local/OAI_segmentation\"\n",
    "for name in tqdm.tqdm(list(iter(knee_image_paths))[:]):\n",
    "    img_path, seg_path = name[0].replace(\"playpen\", \"playpen-raid\"), name[1].replace(\"playpen\", \"playpen-raid\")\n",
    "    img_parent = '/'.join(img_path.split('/')[5:-1])\n",
    "    seg_parent = '/'.join(seg_path.split('/')[5:-1])\n",
    "    # print(parent)\n",
    "    # subprocess.run(f'mkdir -p {dest}/{parent}')\n",
    "    os.makedirs(f\"{dest}/{img_parent}\", exist_ok=True)\n",
    "    os.makedirs(f\"{dest}/{seg_parent}\", exist_ok=True)\n",
    "    subprocess.run(f\"cp -r {img_path} {dest}/{img_parent}\", shell=True)\n",
    "    subprocess.run(f\"cp -r {seg_path} {dest}/{seg_parent}\", shell=True)"
   ]
  },
  {
   "cell_type": "code",
   "execution_count": 39,
   "metadata": {},
   "outputs": [
    {
     "name": "stdout",
     "output_type": "stream",
     "text": [
      "[  1 141 307 302]\n",
      "[  1  91 102 150]\n"
     ]
    }
   ],
   "source": [
    "knee_img_shapes_np = np.array(knee_img_shapes)\n",
    "print(np.max(knee_img_shapes_np,0))\n",
    "print(np.min(knee_img_shapes_np,0))"
   ]
  },
  {
   "cell_type": "code",
   "execution_count": 37,
   "metadata": {},
   "outputs": [
    {
     "data": {
      "text/plain": [
       "<matplotlib.colorbar.Colorbar at 0x7f8daf0d2d30>"
      ]
     },
     "execution_count": 37,
     "metadata": {},
     "output_type": "execute_result"
    },
    {
     "data": {
      "image/png": "[encoded data removed]",
      "text/plain": [
       "<Figure size 640x480 with 2 Axes>"
      ]
     },
     "metadata": {},
     "output_type": "display_data"
    }
   ],
   "source": [
    "import matplotlib.pyplot as plt\n",
    "plt.imshow(cropped_seg[0,10])\n",
    "plt.colorbar()"
   ]
  }
 ],
 "metadata": {
  "kernelspec": {
   "display_name": "icon_test",
   "language": "python",
   "name": "python3"
  },
  "language_info": {
   "codemirror_mode": {
    "name": "ipython",
    "version": 3
   },
   "file_extension": ".py",
   "mimetype": "text/x-python",
   "name": "python",
   "nbconvert_exporter": "python",
   "pygments_lexer": "ipython3",
   "version": "3.9.0"
  },
  "orig_nbformat": 4
 },
 "nbformat": 4,
 "nbformat_minor": 2
}
